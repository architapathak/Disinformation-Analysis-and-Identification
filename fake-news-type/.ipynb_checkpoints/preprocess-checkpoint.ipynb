{
 "cells": [
  {
   "cell_type": "markdown",
   "metadata": {
    "id": "94dxLxYyIPG_"
   },
   "source": [
    "**All Fakes -->**\n",
    "1:\"Disinformation\", 2:\"Hoax\", 3:\"Propaganda\", 4:\"Trusted\"\n",
    "\n",
    "**TOVS -->**\n",
    "1:\"Satire\", 2:\"Hoax\", 3:\"Propaganda\", 4:\"Trusted\"\n",
    "\n"
   ]
  },
  {
   "cell_type": "code",
   "execution_count": null,
   "metadata": {
    "id": "k4TobSpEmICP"
   },
   "outputs": [],
   "source": [
    "import numpy as np\n",
    "import os\n",
    "import pandas as pd\n",
    "import pickle\n",
    "import re\n",
    "import tensorflow as tf\n",
    "from sklearn.preprocessing import MultiLabelBinarizer\n",
    "import random\n",
    "from sklearn.model_selection import train_test_split\n",
    "from sklearn.feature_extraction.text import TfidfVectorizer"
   ]
  },
  {
   "cell_type": "code",
   "execution_count": 5,
   "metadata": {
    "id": "u2kaYkjoH3Rn"
   },
   "outputs": [],
   "source": [
    "data_path = 'data/'\n",
    "intermed_path = 'intermediate/'\n",
    "model_path = 'model/'"
   ]
  },
  {
   "cell_type": "code",
   "execution_count": 6,
   "metadata": {
    "colab": {
     "base_uri": "https://localhost:8080/",
     "height": 212
    },
    "id": "WRSRE64-IBAu",
    "outputId": "ef26e5aa-0f31-40f2-bdfd-3108404dd2f6"
   },
   "outputs": [
    {
     "name": "stdout",
     "output_type": "stream",
     "text": [
      "(3856, 3)\n"
     ]
    },
    {
     "data": {
      "text/html": [
       "<div>\n",
       "<style scoped>\n",
       "    .dataframe tbody tr th:only-of-type {\n",
       "        vertical-align: middle;\n",
       "    }\n",
       "\n",
       "    .dataframe tbody tr th {\n",
       "        vertical-align: top;\n",
       "    }\n",
       "\n",
       "    .dataframe thead th {\n",
       "        text-align: right;\n",
       "    }\n",
       "</style>\n",
       "<table border=\"1\" class=\"dataframe\">\n",
       "  <thead>\n",
       "    <tr style=\"text-align: right;\">\n",
       "      <th></th>\n",
       "      <th>label</th>\n",
       "      <th>content</th>\n",
       "      <th>file</th>\n",
       "    </tr>\n",
       "  </thead>\n",
       "  <tbody>\n",
       "    <tr>\n",
       "      <th>0</th>\n",
       "      <td>3</td>\n",
       "      <td>CISA Systemic Domestic SpyingBy SARTRE Coercio...</td>\n",
       "      <td>NaN</td>\n",
       "    </tr>\n",
       "    <tr>\n",
       "      <th>1</th>\n",
       "      <td>4</td>\n",
       "      <td>The proposed trade agreement with China will b...</td>\n",
       "      <td>NaN</td>\n",
       "    </tr>\n",
       "    <tr>\n",
       "      <th>2</th>\n",
       "      <td>4</td>\n",
       "      <td>The program, launched after the terrorist atta...</td>\n",
       "      <td>NaN</td>\n",
       "    </tr>\n",
       "    <tr>\n",
       "      <th>3</th>\n",
       "      <td>2</td>\n",
       "      <td>Obama Administration Threatening Ben Carsons C...</td>\n",
       "      <td>NaN</td>\n",
       "    </tr>\n",
       "    <tr>\n",
       "      <th>4</th>\n",
       "      <td>2</td>\n",
       "      <td>Black Student President Forced To Resign After...</td>\n",
       "      <td>NaN</td>\n",
       "    </tr>\n",
       "  </tbody>\n",
       "</table>\n",
       "</div>"
      ],
      "text/plain": [
       "   label                                            content file\n",
       "0      3  CISA Systemic Domestic SpyingBy SARTRE Coercio...  NaN\n",
       "1      4  The proposed trade agreement with China will b...  NaN\n",
       "2      4  The program, launched after the terrorist atta...  NaN\n",
       "3      2  Obama Administration Threatening Ben Carsons C...  NaN\n",
       "4      2  Black Student President Forced To Resign After...  NaN"
      ]
     },
     "execution_count": 6,
     "metadata": {},
     "output_type": "execute_result"
    }
   ],
   "source": [
    "df = pd.read_csv(os.path.join(data_path,'all_fakes.csv'))\n",
    "print(df.shape)\n",
    "df.head()"
   ]
  },
  {
   "cell_type": "markdown",
   "metadata": {
    "id": "BNRtxq_rQeGp"
   },
   "source": [
    "## **Preprocess All Fakes Train Set**"
   ]
  },
  {
   "cell_type": "code",
   "execution_count": null,
   "metadata": {
    "colab": {
     "base_uri": "https://localhost:8080/",
     "height": 212
    },
    "id": "tn1cdOLoQjcp",
    "outputId": "3aca2e5b-f721-4386-d8b6-a5afb528288d"
   },
   "outputs": [
    {
     "name": "stdout",
     "output_type": "stream",
     "text": [
      "(3084, 2)\n"
     ]
    },
    {
     "data": {
      "text/html": [
       "<div>\n",
       "<style scoped>\n",
       "    .dataframe tbody tr th:only-of-type {\n",
       "        vertical-align: middle;\n",
       "    }\n",
       "\n",
       "    .dataframe tbody tr th {\n",
       "        vertical-align: top;\n",
       "    }\n",
       "\n",
       "    .dataframe thead th {\n",
       "        text-align: right;\n",
       "    }\n",
       "</style>\n",
       "<table border=\"1\" class=\"dataframe\">\n",
       "  <thead>\n",
       "    <tr style=\"text-align: right;\">\n",
       "      <th></th>\n",
       "      <th>label</th>\n",
       "      <th>content</th>\n",
       "    </tr>\n",
       "  </thead>\n",
       "  <tbody>\n",
       "    <tr>\n",
       "      <th>0</th>\n",
       "      <td>1</td>\n",
       "      <td>donate  as of midday on march  th the number o...</td>\n",
       "    </tr>\n",
       "    <tr>\n",
       "      <th>1</th>\n",
       "      <td>1</td>\n",
       "      <td>president trump on saturday slammed the mainst...</td>\n",
       "    </tr>\n",
       "    <tr>\n",
       "      <th>2</th>\n",
       "      <td>2</td>\n",
       "      <td>state requires welfare recipients to work nort...</td>\n",
       "    </tr>\n",
       "    <tr>\n",
       "      <th>3</th>\n",
       "      <td>2</td>\n",
       "      <td>young boy flags down cop gives him this and le...</td>\n",
       "    </tr>\n",
       "    <tr>\n",
       "      <th>4</th>\n",
       "      <td>4</td>\n",
       "      <td>hungarys marton fucsovics won the wimbledon bo...</td>\n",
       "    </tr>\n",
       "  </tbody>\n",
       "</table>\n",
       "</div>"
      ],
      "text/plain": [
       "   label                                            content\n",
       "0      1  donate  as of midday on march  th the number o...\n",
       "1      1  president trump on saturday slammed the mainst...\n",
       "2      2  state requires welfare recipients to work nort...\n",
       "3      2  young boy flags down cop gives him this and le...\n",
       "4      4  hungarys marton fucsovics won the wimbledon bo..."
      ]
     },
     "execution_count": 6,
     "metadata": {
      "tags": []
     },
     "output_type": "execute_result"
    }
   ],
   "source": [
    "train = pd.read_csv(os.path.join(data_path, 'allfakes_train.csv'))\n",
    "print(train.shape)\n",
    "train.head()"
   ]
  },
  {
   "cell_type": "code",
   "execution_count": null,
   "metadata": {
    "colab": {
     "base_uri": "https://localhost:8080/",
     "height": 212
    },
    "id": "dAmHdLn7Qjcx",
    "outputId": "0164950d-a655-4205-a7d0-6f7b02905f76"
   },
   "outputs": [
    {
     "name": "stdout",
     "output_type": "stream",
     "text": [
      "(3084, 2)\n"
     ]
    },
    {
     "data": {
      "text/html": [
       "<div>\n",
       "<style scoped>\n",
       "    .dataframe tbody tr th:only-of-type {\n",
       "        vertical-align: middle;\n",
       "    }\n",
       "\n",
       "    .dataframe tbody tr th {\n",
       "        vertical-align: top;\n",
       "    }\n",
       "\n",
       "    .dataframe thead th {\n",
       "        text-align: right;\n",
       "    }\n",
       "</style>\n",
       "<table border=\"1\" class=\"dataframe\">\n",
       "  <thead>\n",
       "    <tr style=\"text-align: right;\">\n",
       "      <th></th>\n",
       "      <th>label</th>\n",
       "      <th>content</th>\n",
       "    </tr>\n",
       "  </thead>\n",
       "  <tbody>\n",
       "    <tr>\n",
       "      <th>0</th>\n",
       "      <td>1</td>\n",
       "      <td>donate  as of midday on march  th the number o...</td>\n",
       "    </tr>\n",
       "    <tr>\n",
       "      <th>1</th>\n",
       "      <td>1</td>\n",
       "      <td>president trump on saturday slammed the mainst...</td>\n",
       "    </tr>\n",
       "    <tr>\n",
       "      <th>2</th>\n",
       "      <td>2</td>\n",
       "      <td>state requires welfare recipients to work nort...</td>\n",
       "    </tr>\n",
       "    <tr>\n",
       "      <th>3</th>\n",
       "      <td>2</td>\n",
       "      <td>young boy flags down cop gives him this and le...</td>\n",
       "    </tr>\n",
       "    <tr>\n",
       "      <th>4</th>\n",
       "      <td>4</td>\n",
       "      <td>hungarys marton fucsovics won the wimbledon bo...</td>\n",
       "    </tr>\n",
       "  </tbody>\n",
       "</table>\n",
       "</div>"
      ],
      "text/plain": [
       "   label                                            content\n",
       "0      1  donate  as of midday on march  th the number o...\n",
       "1      1  president trump on saturday slammed the mainst...\n",
       "2      2  state requires welfare recipients to work nort...\n",
       "3      2  young boy flags down cop gives him this and le...\n",
       "4      4  hungarys marton fucsovics won the wimbledon bo..."
      ]
     },
     "execution_count": 7,
     "metadata": {
      "tags": []
     },
     "output_type": "execute_result"
    }
   ],
   "source": [
    "import string\n",
    "train['content'] = train['content'].apply(lambda x: str(x))\n",
    "train['content'] = train['content'].apply(lambda x: x.lower())\n",
    "train['content'] = train['content'].apply(lambda x: re.sub('\\\\d+', ' ', x))\n",
    "train['content'] = train['content'].apply(lambda x: x.replace('\\n', ' '))\n",
    "train['content'] = train['content'].apply(lambda x: x.replace('\\r', ' '))\n",
    "train['content'] = train['content'].apply(lambda x: x.replace('-', ' '))\n",
    "train['content'] = train['content'].apply(lambda x: x.replace('::', ' '))\n",
    "train['content'] = train['content'].apply(lambda x: x.translate(str.maketrans(' ', ' ', string.punctuation)))\n",
    "train['content'] = train['content'].apply(lambda x: x.encode(\"ascii\", errors=\"ignore\").decode())\n",
    "train['content'] = train['content'].apply(lambda x: re.sub('<[^<]+?>', ' ', x))\n",
    "train['content'] = train['content'].apply(lambda x: x.strip())\n",
    "print(train.shape)\n",
    "train.head()"
   ]
  },
  {
   "cell_type": "code",
   "execution_count": null,
   "metadata": {
    "colab": {
     "base_uri": "https://localhost:8080/"
    },
    "id": "QF_cyMUyQjcx",
    "outputId": "0906fdf2-0e16-46de-b932-425803054966"
   },
   "outputs": [
    {
     "data": {
      "text/plain": [
       "(3072, 2)"
      ]
     },
     "execution_count": 8,
     "metadata": {
      "tags": []
     },
     "output_type": "execute_result"
    }
   ],
   "source": [
    "train = train.drop_duplicates(subset='content', inplace=False, keep = 'first')\n",
    "train.shape"
   ]
  },
  {
   "cell_type": "code",
   "execution_count": null,
   "metadata": {
    "colab": {
     "base_uri": "https://localhost:8080/"
    },
    "id": "40PTng7yQjcx",
    "outputId": "c960ef68-da82-427a-9ff5-ca4644f058ad"
   },
   "outputs": [
    {
     "name": "stdout",
     "output_type": "stream",
     "text": [
      "3072\n"
     ]
    }
   ],
   "source": [
    "corpus = []\n",
    "corpus.extend(train['content'].tolist())\n",
    "print(len(corpus))"
   ]
  },
  {
   "cell_type": "code",
   "execution_count": null,
   "metadata": {
    "id": "qNLrZj2mQjcy"
   },
   "outputs": [],
   "source": [
    "vocab_size_src = 300000\n",
    "tokenizer = tf.keras.preprocessing.text.Tokenizer(num_words=vocab_size_src)\n",
    "tokenizer.fit_on_texts(corpus)\n"
   ]
  },
  {
   "cell_type": "code",
   "execution_count": null,
   "metadata": {
    "id": "41g6WPr9Qjcy"
   },
   "outputs": [],
   "source": [
    "with open(os.path.join(intermed_path, 'allfakes_tokenizer.pickle'), 'wb') as handle:\n",
    "       pickle.dump(tokenizer, handle, protocol=pickle.HIGHEST_PROTOCOL)"
   ]
  },
  {
   "cell_type": "code",
   "execution_count": null,
   "metadata": {
    "colab": {
     "base_uri": "https://localhost:8080/"
    },
    "id": "fE6BStKdQjcy",
    "outputId": "2bc704cd-f2f7-4d9e-b11f-4c62c11b9605"
   },
   "outputs": [
    {
     "name": "stdout",
     "output_type": "stream",
     "text": [
      "[[3.6130e+03 1.3000e+01 3.0000e+00 ... 1.0000e+00 3.8280e+03 3.0000e+00]\n",
      " [7.7000e+01 8.1000e+01 1.0000e+01 ... 0.0000e+00 0.0000e+00 0.0000e+00]\n",
      " [8.7000e+01 1.9960e+03 2.1030e+03 ... 0.0000e+00 0.0000e+00 0.0000e+00]\n",
      " ...\n",
      " [8.2000e+01 9.2000e+01 9.1000e+01 ... 0.0000e+00 0.0000e+00 0.0000e+00]\n",
      " [1.5353e+04 1.4530e+03 2.5400e+02 ... 0.0000e+00 0.0000e+00 0.0000e+00]\n",
      " [3.3200e+02 8.1000e+01 6.6000e+01 ... 0.0000e+00 0.0000e+00 0.0000e+00]]\n",
      "(3072, 1000)\n"
     ]
    }
   ],
   "source": [
    "field_lengths = [1000]\n",
    "field_names = ['content']\n",
    "\n",
    "num_of_cols = sum(field_lengths)\n",
    "data_result = np.zeros(shape=(train.shape[0], num_of_cols), dtype=np.float32)\n",
    "cur_start = 0\n",
    "cur_end = 0\n",
    "for field_name,field_len in zip(field_names,field_lengths):\n",
    "  cur_start = cur_end\n",
    "  cur_end += field_len\n",
    "  seq = tokenizer.texts_to_sequences(train[field_name].values)\n",
    "  data_result[:, cur_start:cur_end] = tf.keras.preprocessing.sequence.pad_sequences(seq,\n",
    "                                      maxlen=field_len, padding='post', truncating='post', value=0)\n",
    "\n",
    "np.savez(os.path.join(intermed_path, 'allfakes_feat.npz'), data_result)\n",
    "print(data_result)\n",
    "print(data_result.shape)"
   ]
  },
  {
   "cell_type": "code",
   "execution_count": null,
   "metadata": {
    "id": "9mXlD9ibQjcz"
   },
   "outputs": [],
   "source": [
    "train['label'] = train['label'].astype(int).astype(str).apply(lambda x : [x])\n",
    "mlb = MultiLabelBinarizer()\n",
    "mlb.fit_transform(train['label'])\n",
    "\n",
    "with open(os.path.join(intermed_path,'allfakes_lb.pkl'), 'wb') as f:\n",
    "  pickle.dump(mlb, f)\n"
   ]
  },
  {
   "cell_type": "code",
   "execution_count": null,
   "metadata": {
    "colab": {
     "base_uri": "https://localhost:8080/"
    },
    "id": "IgOI_Be4Qjcz",
    "outputId": "0fa28d6a-c884-4a59-c69a-567b683b53c5"
   },
   "outputs": [
    {
     "name": "stdout",
     "output_type": "stream",
     "text": [
      "['1' '2' '3' '4']\n"
     ]
    }
   ],
   "source": [
    "num_of_rows = train.shape[0]\n",
    "num_of_labels = mlb.classes_.shape[0] \n",
    "label_result = np.zeros(shape=(num_of_rows, num_of_labels), dtype=np.int)\n",
    "label_result = mlb.transform(train['label']).astype(np.int)\n",
    "\n",
    "np.savez(os.path.join(intermed_path, 'allfakes_lb.npz'), label_result)\n",
    "print(mlb.classes_)"
   ]
  },
  {
   "cell_type": "markdown",
   "metadata": {
    "id": "j7cvTkbpMjXx"
   },
   "source": [
    "## **Preprocess TOVS Train Set**"
   ]
  },
  {
   "cell_type": "code",
   "execution_count": null,
   "metadata": {
    "colab": {
     "base_uri": "https://localhost:8080/",
     "height": 212
    },
    "id": "CgSpBuabMhIN",
    "outputId": "596fe928-d6e4-415c-819f-4a6c9c8a45ba"
   },
   "outputs": [
    {
     "name": "stdout",
     "output_type": "stream",
     "text": [
      "(16000, 2)\n"
     ]
    },
    {
     "data": {
      "text/html": [
       "<div>\n",
       "<style scoped>\n",
       "    .dataframe tbody tr th:only-of-type {\n",
       "        vertical-align: middle;\n",
       "    }\n",
       "\n",
       "    .dataframe tbody tr th {\n",
       "        vertical-align: top;\n",
       "    }\n",
       "\n",
       "    .dataframe thead th {\n",
       "        text-align: right;\n",
       "    }\n",
       "</style>\n",
       "<table border=\"1\" class=\"dataframe\">\n",
       "  <thead>\n",
       "    <tr style=\"text-align: right;\">\n",
       "      <th></th>\n",
       "      <th>label</th>\n",
       "      <th>content</th>\n",
       "    </tr>\n",
       "  </thead>\n",
       "  <tbody>\n",
       "    <tr>\n",
       "      <th>0</th>\n",
       "      <td>1</td>\n",
       "      <td>GREEN BAY, WIDavid Horsted, 45, announced Mond...</td>\n",
       "    </tr>\n",
       "    <tr>\n",
       "      <th>1</th>\n",
       "      <td>3</td>\n",
       "      <td>CISA Systemic Domestic SpyingBy SARTRE Coercio...</td>\n",
       "    </tr>\n",
       "    <tr>\n",
       "      <th>2</th>\n",
       "      <td>1</td>\n",
       "      <td>A local resident's search for a public bathroo...</td>\n",
       "    </tr>\n",
       "    <tr>\n",
       "      <th>3</th>\n",
       "      <td>1</td>\n",
       "      <td>A five-minute sampling of Hindi-language chann...</td>\n",
       "    </tr>\n",
       "    <tr>\n",
       "      <th>4</th>\n",
       "      <td>4</td>\n",
       "      <td>The proposed trade agreement with China will b...</td>\n",
       "    </tr>\n",
       "  </tbody>\n",
       "</table>\n",
       "</div>"
      ],
      "text/plain": [
       "   label                                            content\n",
       "0      1  GREEN BAY, WIDavid Horsted, 45, announced Mond...\n",
       "1      3  CISA Systemic Domestic SpyingBy SARTRE Coercio...\n",
       "2      1  A local resident's search for a public bathroo...\n",
       "3      1  A five-minute sampling of Hindi-language chann...\n",
       "4      4  The proposed trade agreement with China will b..."
      ]
     },
     "execution_count": 84,
     "metadata": {
      "tags": []
     },
     "output_type": "execute_result"
    }
   ],
   "source": [
    "train = pd.read_csv(os.path.join(data_path, 'tovs_train.csv'))\n",
    "print(train.shape)\n",
    "train.head()"
   ]
  },
  {
   "cell_type": "code",
   "execution_count": null,
   "metadata": {
    "colab": {
     "base_uri": "https://localhost:8080/",
     "height": 212
    },
    "id": "f9mtC-2WOHnT",
    "outputId": "23671b34-a264-4ab8-ee50-4e586d5331a1"
   },
   "outputs": [
    {
     "name": "stdout",
     "output_type": "stream",
     "text": [
      "(16000, 2)\n"
     ]
    },
    {
     "data": {
      "text/html": [
       "<div>\n",
       "<style scoped>\n",
       "    .dataframe tbody tr th:only-of-type {\n",
       "        vertical-align: middle;\n",
       "    }\n",
       "\n",
       "    .dataframe tbody tr th {\n",
       "        vertical-align: top;\n",
       "    }\n",
       "\n",
       "    .dataframe thead th {\n",
       "        text-align: right;\n",
       "    }\n",
       "</style>\n",
       "<table border=\"1\" class=\"dataframe\">\n",
       "  <thead>\n",
       "    <tr style=\"text-align: right;\">\n",
       "      <th></th>\n",
       "      <th>label</th>\n",
       "      <th>content</th>\n",
       "    </tr>\n",
       "  </thead>\n",
       "  <tbody>\n",
       "    <tr>\n",
       "      <th>0</th>\n",
       "      <td>1</td>\n",
       "      <td>green bay widavid horsted   announced monday t...</td>\n",
       "    </tr>\n",
       "    <tr>\n",
       "      <th>1</th>\n",
       "      <td>3</td>\n",
       "      <td>cisa systemic domestic spyingby sartre coercio...</td>\n",
       "    </tr>\n",
       "    <tr>\n",
       "      <th>2</th>\n",
       "      <td>1</td>\n",
       "      <td>a local residents search for a public bathroom...</td>\n",
       "    </tr>\n",
       "    <tr>\n",
       "      <th>3</th>\n",
       "      <td>1</td>\n",
       "      <td>a five minute sampling of hindi language chann...</td>\n",
       "    </tr>\n",
       "    <tr>\n",
       "      <th>4</th>\n",
       "      <td>4</td>\n",
       "      <td>the proposed trade agreement with china will b...</td>\n",
       "    </tr>\n",
       "  </tbody>\n",
       "</table>\n",
       "</div>"
      ],
      "text/plain": [
       "   label                                            content\n",
       "0      1  green bay widavid horsted   announced monday t...\n",
       "1      3  cisa systemic domestic spyingby sartre coercio...\n",
       "2      1  a local residents search for a public bathroom...\n",
       "3      1  a five minute sampling of hindi language chann...\n",
       "4      4  the proposed trade agreement with china will b..."
      ]
     },
     "execution_count": 85,
     "metadata": {
      "tags": []
     },
     "output_type": "execute_result"
    }
   ],
   "source": [
    "import string\n",
    "train['content'] = train['content'].apply(lambda x: str(x))\n",
    "train['content'] = train['content'].apply(lambda x: x.lower())\n",
    "train['content'] = train['content'].apply(lambda x: re.sub('\\\\d+', ' ', x))\n",
    "train['content'] = train['content'].apply(lambda x: x.replace('\\n', ' '))\n",
    "train['content'] = train['content'].apply(lambda x: x.replace('\\r', ' '))\n",
    "train['content'] = train['content'].apply(lambda x: x.replace('-', ' '))\n",
    "train['content'] = train['content'].apply(lambda x: x.replace('::', ' '))\n",
    "train['content'] = train['content'].apply(lambda x: x.translate(str.maketrans(' ', ' ', string.punctuation)))\n",
    "train['content'] = train['content'].apply(lambda x: x.encode(\"ascii\", errors=\"ignore\").decode())\n",
    "train['content'] = train['content'].apply(lambda x: re.sub('<[^<]+?>', ' ', x))\n",
    "train['content'] = train['content'].apply(lambda x: x.strip())\n",
    "print(train.shape)\n",
    "train.head()"
   ]
  },
  {
   "cell_type": "code",
   "execution_count": null,
   "metadata": {
    "colab": {
     "base_uri": "https://localhost:8080/"
    },
    "id": "OtkVVyfX1F83",
    "outputId": "58d5a8b2-5b1c-46bc-b224-f1fee92f4fcf"
   },
   "outputs": [
    {
     "data": {
      "text/plain": [
       "(15962, 2)"
      ]
     },
     "execution_count": 86,
     "metadata": {
      "tags": []
     },
     "output_type": "execute_result"
    }
   ],
   "source": [
    "train = train.drop_duplicates(subset='content', inplace=False, keep = 'first')\n",
    "train.shape"
   ]
  },
  {
   "cell_type": "code",
   "execution_count": null,
   "metadata": {
    "colab": {
     "base_uri": "https://localhost:8080/"
    },
    "id": "MjUqxWgZ56t6",
    "outputId": "d02fac81-8ad3-47e4-ef42-c362665a15ee"
   },
   "outputs": [
    {
     "name": "stdout",
     "output_type": "stream",
     "text": [
      "15962\n"
     ]
    }
   ],
   "source": [
    "corpus = []\n",
    "corpus.extend(train['content'].tolist())\n",
    "print(len(corpus))"
   ]
  },
  {
   "cell_type": "code",
   "execution_count": null,
   "metadata": {
    "id": "W3IqgHQB7Wjf"
   },
   "outputs": [],
   "source": [
    "vocab_size_src = 300000\n",
    "tokenizer = tf.keras.preprocessing.text.Tokenizer(num_words=vocab_size_src)\n",
    "tokenizer.fit_on_texts(corpus)\n"
   ]
  },
  {
   "cell_type": "code",
   "execution_count": null,
   "metadata": {
    "id": "P4Mcgia9ZFFF"
   },
   "outputs": [],
   "source": [
    "with open(os.path.join(intermed_path, 'tovs_tokenizer.pickle'), 'wb') as handle:\n",
    "       pickle.dump(tokenizer, handle, protocol=pickle.HIGHEST_PROTOCOL)"
   ]
  },
  {
   "cell_type": "code",
   "execution_count": null,
   "metadata": {
    "colab": {
     "base_uri": "https://localhost:8080/"
    },
    "id": "vcJQidA39G1Q",
    "outputId": "8facebb7-ab3b-4284-cb39-cfb05edab4e5"
   },
   "outputs": [
    {
     "name": "stdout",
     "output_type": "stream",
     "text": [
      "[[1.2050e+03 2.2430e+03 6.3857e+04 ... 0.0000e+00 0.0000e+00 0.0000e+00]\n",
      " [1.6472e+04 8.2350e+03 1.0700e+03 ... 8.1560e+03 1.4600e+02 1.0000e+00]\n",
      " [5.0000e+00 2.2500e+02 1.0290e+03 ... 0.0000e+00 0.0000e+00 0.0000e+00]\n",
      " ...\n",
      " [2.9700e+02 4.0760e+03 2.6000e+01 ... 0.0000e+00 0.0000e+00 0.0000e+00]\n",
      " [1.3300e+03 3.9200e+02 1.0260e+03 ... 0.0000e+00 0.0000e+00 0.0000e+00]\n",
      " [6.7600e+02 1.1284e+04 1.4000e+01 ... 0.0000e+00 0.0000e+00 0.0000e+00]]\n",
      "(15962, 1000)\n"
     ]
    }
   ],
   "source": [
    "field_lengths = [1000]\n",
    "field_names = ['content']\n",
    "\n",
    "num_of_cols = sum(field_lengths)\n",
    "data_result = np.zeros(shape=(train.shape[0], num_of_cols), dtype=np.float32)\n",
    "cur_start = 0\n",
    "cur_end = 0\n",
    "for field_name,field_len in zip(field_names,field_lengths):\n",
    "  cur_start = cur_end\n",
    "  cur_end += field_len\n",
    "  seq = tokenizer.texts_to_sequences(train[field_name].values)\n",
    "  data_result[:, cur_start:cur_end] = tf.keras.preprocessing.sequence.pad_sequences(seq,\n",
    "                                      maxlen=field_len, padding='post', truncating='post', value=0)\n",
    "\n",
    "np.savez(os.path.join(intermed_path, 'tovs_feat.npz'), data_result)\n",
    "print(data_result)\n",
    "print(data_result.shape)"
   ]
  },
  {
   "cell_type": "code",
   "execution_count": null,
   "metadata": {
    "id": "Ofb9Adp5Y1Tf"
   },
   "outputs": [],
   "source": [
    "train['label'] = train['label'].astype(int).astype(str).apply(lambda x : [x])\n",
    "mlb = MultiLabelBinarizer()\n",
    "mlb.fit_transform(train['label'])\n",
    "\n",
    "with open(os.path.join(intermed_path,'tovs_lb.pkl'), 'wb') as f:\n",
    "  pickle.dump(mlb, f)\n"
   ]
  },
  {
   "cell_type": "code",
   "execution_count": null,
   "metadata": {
    "colab": {
     "base_uri": "https://localhost:8080/"
    },
    "id": "TG5tTRJtZvdn",
    "outputId": "94877d2f-dc89-4fad-f207-2f67a41ce9d7"
   },
   "outputs": [
    {
     "name": "stdout",
     "output_type": "stream",
     "text": [
      "['1' '2' '3' '4']\n"
     ]
    }
   ],
   "source": [
    "num_of_rows = train.shape[0]\n",
    "num_of_labels = mlb.classes_.shape[0] \n",
    "label_result = np.zeros(shape=(num_of_rows, num_of_labels), dtype=np.int)\n",
    "label_result = mlb.transform(train['label']).astype(np.int)\n",
    "\n",
    "np.savez(os.path.join(intermed_path, 'tovs_lb.npz'), label_result)\n",
    "print(mlb.classes_)"
   ]
  },
  {
   "cell_type": "code",
   "execution_count": null,
   "metadata": {
    "id": "5v3vfqe3QX2d"
   },
   "outputs": [],
   "source": []
  }
 ],
 "metadata": {
  "colab": {
   "name": "all-fakes-preprocess.ipynb",
   "provenance": [],
   "toc_visible": true
  },
  "kernelspec": {
   "display_name": "Python 3",
   "language": "python",
   "name": "python3"
  },
  "language_info": {
   "codemirror_mode": {
    "name": "ipython",
    "version": 3
   },
   "file_extension": ".py",
   "mimetype": "text/x-python",
   "name": "python",
   "nbconvert_exporter": "python",
   "pygments_lexer": "ipython3",
   "version": "3.7.3"
  }
 },
 "nbformat": 4,
 "nbformat_minor": 1
}
