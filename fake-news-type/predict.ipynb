{
 "cells": [
  {
   "cell_type": "markdown",
   "metadata": {
    "id": "3fJVn-R_Ca0g"
   },
   "source": [
    "# Code for predicting type of fake news\n",
    "\n",
    "Following two datasets used for this study:\n",
    "\n",
    "**All Fakes -->**\n",
    "1:\"Disinformation\", 2:\"Hoax\", 3:\"Propaganda\", 4:\"Trusted\"\n",
    "\n",
    "**TOVS -->**\n",
    "1:\"Satire\", 2:\"Hoax\", 3:\"Propaganda\", 4:\"Trusted\"\n",
    "\n"
   ]
  },
  {
   "cell_type": "code",
   "execution_count": 22,
   "metadata": {
    "id": "kS6W-iBVf3qO"
   },
   "outputs": [],
   "source": [
    "import numpy as np\n",
    "import os\n",
    "import pickle\n",
    "import pandas as pd\n",
    "import re\n",
    "import tensorflow as tf\n",
    "from sklearn.metrics import roc_auc_score, classification_report, confusion_matrix, f1_score, precision_score, recall_score"
   ]
  },
  {
   "cell_type": "code",
   "execution_count": 24,
   "metadata": {
    "id": "zr3M_SyEXH5Z"
   },
   "outputs": [],
   "source": [
    "data_path = 'data/'\n",
    "intermed_path = 'intermediate/'\n",
    "model_path = 'model/'"
   ]
  },
  {
   "cell_type": "code",
   "execution_count": 62,
   "metadata": {
    "colab": {
     "base_uri": "https://localhost:8080/",
     "height": 212
    },
    "id": "skde9fHZXRfE",
    "outputId": "db61667c-b7c0-48df-ff19-034e6e326e41"
   },
   "outputs": [
    {
     "name": "stdout",
     "output_type": "stream",
     "text": [
      "(772, 2)\n"
     ]
    },
    {
     "data": {
      "text/html": [
       "<div>\n",
       "<style scoped>\n",
       "    .dataframe tbody tr th:only-of-type {\n",
       "        vertical-align: middle;\n",
       "    }\n",
       "\n",
       "    .dataframe tbody tr th {\n",
       "        vertical-align: top;\n",
       "    }\n",
       "\n",
       "    .dataframe thead th {\n",
       "        text-align: right;\n",
       "    }\n",
       "</style>\n",
       "<table border=\"1\" class=\"dataframe\">\n",
       "  <thead>\n",
       "    <tr style=\"text-align: right;\">\n",
       "      <th></th>\n",
       "      <th>label</th>\n",
       "      <th>content</th>\n",
       "    </tr>\n",
       "  </thead>\n",
       "  <tbody>\n",
       "    <tr>\n",
       "      <th>0</th>\n",
       "      <td>1</td>\n",
       "      <td>what with warships in our harbour and troops i...</td>\n",
       "    </tr>\n",
       "    <tr>\n",
       "      <th>1</th>\n",
       "      <td>2</td>\n",
       "      <td>hillary vp pick turns on her and humiliates he...</td>\n",
       "    </tr>\n",
       "    <tr>\n",
       "      <th>2</th>\n",
       "      <td>2</td>\n",
       "      <td>angry liberals tried to take down ivanka so sh...</td>\n",
       "    </tr>\n",
       "    <tr>\n",
       "      <th>3</th>\n",
       "      <td>4</td>\n",
       "      <td>prices of chinas domestically made automobiles...</td>\n",
       "    </tr>\n",
       "    <tr>\n",
       "      <th>4</th>\n",
       "      <td>4</td>\n",
       "      <td>a medical doctor in taichung recently pubished...</td>\n",
       "    </tr>\n",
       "  </tbody>\n",
       "</table>\n",
       "</div>"
      ],
      "text/plain": [
       "   label                                            content\n",
       "0      1  what with warships in our harbour and troops i...\n",
       "1      2  hillary vp pick turns on her and humiliates he...\n",
       "2      2  angry liberals tried to take down ivanka so sh...\n",
       "3      4  prices of chinas domestically made automobiles...\n",
       "4      4  a medical doctor in taichung recently pubished..."
      ]
     },
     "execution_count": 62,
     "metadata": {
      "tags": []
     },
     "output_type": "execute_result"
    }
   ],
   "source": [
    "df = pd.read_csv(os.path.join(data_path, 'allfakes_test.csv'))\n",
    "print(df.shape)\n",
    "df[:5]"
   ]
  },
  {
   "cell_type": "code",
   "execution_count": 63,
   "metadata": {
    "colab": {
     "base_uri": "https://localhost:8080/"
    },
    "id": "OXh1D4Y4XdPX",
    "outputId": "82ab1104-bf3d-4fc0-cfdc-68fdfdf2a69c"
   },
   "outputs": [
    {
     "name": "stdout",
     "output_type": "stream",
     "text": [
      "(772, 2)\n"
     ]
    },
    {
     "data": {
      "text/plain": [
       "4    213\n",
       "2    213\n",
       "3    199\n",
       "1    147\n",
       "Name: label, dtype: int64"
      ]
     },
     "execution_count": 63,
     "metadata": {
      "tags": []
     },
     "output_type": "execute_result"
    }
   ],
   "source": [
    "\n",
    "import string\n",
    "df['content'] = df['content'].apply(lambda x: str(x))\n",
    "df['content'] = df['content'].apply(lambda x: x.lower())\n",
    "df['content'] = df['content'].apply(lambda x: re.sub('\\\\d+', ' ', x))\n",
    "df['content'] = df['content'].apply(lambda x: x.replace('\\n', ' '))\n",
    "df['content'] = df['content'].apply(lambda x: x.replace('\\r', ' '))\n",
    "df['content'] = df['content'].apply(lambda x: x.replace('-', ' '))\n",
    "df['content'] = df['content'].apply(lambda x: x.replace('::', ' '))\n",
    "df['content'] = df['content'].apply(lambda x: x.translate(str.maketrans(' ', ' ', string.punctuation)))\n",
    "df['content'] = df['content'].apply(lambda x: x.encode(\"ascii\", errors=\"ignore\").decode())\n",
    "df['content'] = df['content'].apply(lambda x: re.sub('<[^<]+?>', ' ', x))\n",
    "df['content'] = df['content'].apply(lambda x: x.strip())\n",
    "print(df.shape)\n",
    "df.head()\n",
    "df.label.value_counts()"
   ]
  },
  {
   "cell_type": "code",
   "execution_count": 64,
   "metadata": {
    "colab": {
     "base_uri": "https://localhost:8080/"
    },
    "id": "Flv8Ae6eXgcS",
    "outputId": "fc6c4cec-a2c0-4d9a-baad-9ceb67007282"
   },
   "outputs": [
    {
     "name": "stdout",
     "output_type": "stream",
     "text": [
      "[[4.1000e+01 1.2000e+01 1.2964e+04 ... 0.0000e+00 0.0000e+00 0.0000e+00]\n",
      " [1.6000e+02 8.4050e+03 2.3830e+03 ... 0.0000e+00 0.0000e+00 0.0000e+00]\n",
      " [2.3120e+03 1.6670e+03 9.3200e+02 ... 0.0000e+00 0.0000e+00 0.0000e+00]\n",
      " ...\n",
      " [3.7000e+01 2.2400e+03 2.0000e+00 ... 0.0000e+00 0.0000e+00 0.0000e+00]\n",
      " [4.0384e+04 6.4580e+03 2.1396e+04 ... 0.0000e+00 0.0000e+00 0.0000e+00]\n",
      " [6.4100e+02 2.0400e+03 6.0000e+00 ... 0.0000e+00 0.0000e+00 0.0000e+00]]\n"
     ]
    }
   ],
   "source": [
    "#Load Tokenizer\n",
    "field_lengths = [1000]\n",
    "field_names = ['content']\n",
    "\n",
    "with open(os.path.join(intermed_path, 'allfakes_tokenizer.pickle'), 'rb') as handle:\n",
    "  tokenizer = pickle.load(handle)\n",
    "\n",
    "num_of_cols = sum(field_lengths)\n",
    "test_data_result = np.zeros(shape=(df.shape[0], num_of_cols), dtype=np.float32)\n",
    "cur_start = 0\n",
    "cur_end = 0\n",
    "\n",
    "for field_name,field_len in zip(field_names,field_lengths):\n",
    "       cur_start = cur_end\n",
    "       cur_end += field_len\n",
    "       seq = tokenizer.texts_to_sequences(df[field_name].values)\n",
    "\n",
    "       test_data_result[:, cur_start:cur_end] = tf.keras.preprocessing.sequence.pad_sequences(\n",
    "               seq,\n",
    "               maxlen=field_len,\n",
    "               padding='post',\n",
    "               truncating='post',\n",
    "               value=0)\n",
    "\n",
    "print(test_data_result)\n"
   ]
  },
  {
   "cell_type": "code",
   "execution_count": 72,
   "metadata": {
    "colab": {
     "base_uri": "https://localhost:8080/"
    },
    "id": "6upNED8NXkt4",
    "outputId": "12f3de37-a96e-4191-a379-38420996865f"
   },
   "outputs": [
    {
     "name": "stdout",
     "output_type": "stream",
     "text": [
      "Model: \"model_8\"\n",
      "__________________________________________________________________________________________________\n",
      "Layer (type)                    Output Shape         Param #     Connected to                     \n",
      "==================================================================================================\n",
      "lstm_input (InputLayer)         [(None, 1000)]       0                                            \n",
      "__________________________________________________________________________________________________\n",
      "embeddings (Embedding)          (None, 1000, 100)    30000000    lstm_input[0][0]                 \n",
      "__________________________________________________________________________________________________\n",
      "lstm_11 (LSTM)                  (None, 512)          1255424     embeddings[0][0]                 \n",
      "__________________________________________________________________________________________________\n",
      "lstm_12 (LSTM)                  (None, 512)          1255424     embeddings[0][0]                 \n",
      "__________________________________________________________________________________________________\n",
      "concatenate_5 (Concatenate)     (None, 1024)         0           lstm_11[0][0]                    \n",
      "                                                                 lstm_12[0][0]                    \n",
      "__________________________________________________________________________________________________\n",
      "dropout_14 (Dropout)            (None, 1024)         0           concatenate_5[0][0]              \n",
      "__________________________________________________________________________________________________\n",
      "dense_15 (Dense)                (None, 4)            4100        dropout_14[0][0]                 \n",
      "==================================================================================================\n",
      "Total params: 32,514,948\n",
      "Trainable params: 32,514,948\n",
      "Non-trainable params: 0\n",
      "__________________________________________________________________________________________________\n"
     ]
    }
   ],
   "source": [
    "#Load model\n",
    "\n",
    "model = tf.keras.models.load_model(\n",
    "    filepath= os.path.join(model_path, 'lstm_model_weight_allfakes.h5'))\n",
    "\n",
    "model.summary()\n"
   ]
  },
  {
   "cell_type": "code",
   "execution_count": 73,
   "metadata": {
    "colab": {
     "base_uri": "https://localhost:8080/"
    },
    "id": "lPjSp3CqX5p0",
    "outputId": "583ed267-4902-42d5-fead-e57aee8eefe8"
   },
   "outputs": [
    {
     "name": "stdout",
     "output_type": "stream",
     "text": [
      "Number of predictions by model: 772\n",
      "(772, 4)\n"
     ]
    }
   ],
   "source": [
    "predictions = model.predict(test_data_result,batch_size=32)\n",
    "print('Number of predictions by model:', len(predictions))\n",
    "print(predictions.shape)\n",
    "\n",
    "if predictions.shape[-1] > 1:\n",
    "  preds = np.argmax(predictions, axis=-1).tolist()\n",
    "else:\n",
    "  preds = (predictions > 0.5).astype('int32')\n",
    "scores = np.max(predictions, axis=-1).tolist()\n",
    "\n",
    "with open(os.path.join(intermed_path, 'allfakes_lb.pkl'), 'rb') as handle:\n",
    "       mlb = pickle.load(handle)\n",
    "\n",
    "classes = mlb.classes_\n",
    "labels = [classes[c] for c in preds]\n"
   ]
  },
  {
   "cell_type": "code",
   "execution_count": 74,
   "metadata": {
    "colab": {
     "base_uri": "https://localhost:8080/",
     "height": 704
    },
    "id": "BIN9oxqUj4lA",
    "outputId": "1b51ec9a-1408-4a5d-a601-4bd8f5a92764"
   },
   "outputs": [
    {
     "name": "stderr",
     "output_type": "stream",
     "text": [
      "/usr/local/lib/python3.7/dist-packages/ipykernel_launcher.py:2: SettingWithCopyWarning: \n",
      "A value is trying to be set on a copy of a slice from a DataFrame.\n",
      "Try using .loc[row_indexer,col_indexer] = value instead\n",
      "\n",
      "See the caveats in the documentation: https://pandas.pydata.org/pandas-docs/stable/user_guide/indexing.html#returning-a-view-versus-a-copy\n",
      "  \n",
      "/usr/local/lib/python3.7/dist-packages/ipykernel_launcher.py:3: SettingWithCopyWarning: \n",
      "A value is trying to be set on a copy of a slice from a DataFrame.\n",
      "Try using .loc[row_indexer,col_indexer] = value instead\n",
      "\n",
      "See the caveats in the documentation: https://pandas.pydata.org/pandas-docs/stable/user_guide/indexing.html#returning-a-view-versus-a-copy\n",
      "  This is separate from the ipykernel package so we can avoid doing imports until\n",
      "/usr/local/lib/python3.7/dist-packages/ipykernel_launcher.py:5: SettingWithCopyWarning: \n",
      "A value is trying to be set on a copy of a slice from a DataFrame.\n",
      "Try using .loc[row_indexer,col_indexer] = value instead\n",
      "\n",
      "See the caveats in the documentation: https://pandas.pydata.org/pandas-docs/stable/user_guide/indexing.html#returning-a-view-versus-a-copy\n",
      "  \"\"\"\n"
     ]
    },
    {
     "data": {
      "text/html": [
       "<div>\n",
       "<style scoped>\n",
       "    .dataframe tbody tr th:only-of-type {\n",
       "        vertical-align: middle;\n",
       "    }\n",
       "\n",
       "    .dataframe tbody tr th {\n",
       "        vertical-align: top;\n",
       "    }\n",
       "\n",
       "    .dataframe thead th {\n",
       "        text-align: right;\n",
       "    }\n",
       "</style>\n",
       "<table border=\"1\" class=\"dataframe\">\n",
       "  <thead>\n",
       "    <tr style=\"text-align: right;\">\n",
       "      <th></th>\n",
       "      <th>content</th>\n",
       "      <th>label</th>\n",
       "      <th>predict</th>\n",
       "      <th>predict_score</th>\n",
       "      <th>true</th>\n",
       "    </tr>\n",
       "  </thead>\n",
       "  <tbody>\n",
       "    <tr>\n",
       "      <th>0</th>\n",
       "      <td>what with warships in our harbour and troops i...</td>\n",
       "      <td>1</td>\n",
       "      <td>1</td>\n",
       "      <td>0.816495</td>\n",
       "      <td>True</td>\n",
       "    </tr>\n",
       "    <tr>\n",
       "      <th>1</th>\n",
       "      <td>hillary vp pick turns on her and humiliates he...</td>\n",
       "      <td>2</td>\n",
       "      <td>2</td>\n",
       "      <td>0.999942</td>\n",
       "      <td>True</td>\n",
       "    </tr>\n",
       "    <tr>\n",
       "      <th>2</th>\n",
       "      <td>angry liberals tried to take down ivanka so sh...</td>\n",
       "      <td>2</td>\n",
       "      <td>2</td>\n",
       "      <td>0.999993</td>\n",
       "      <td>True</td>\n",
       "    </tr>\n",
       "    <tr>\n",
       "      <th>3</th>\n",
       "      <td>prices of chinas domestically made automobiles...</td>\n",
       "      <td>4</td>\n",
       "      <td>4</td>\n",
       "      <td>0.999995</td>\n",
       "      <td>True</td>\n",
       "    </tr>\n",
       "    <tr>\n",
       "      <th>4</th>\n",
       "      <td>a medical doctor in taichung recently pubished...</td>\n",
       "      <td>4</td>\n",
       "      <td>4</td>\n",
       "      <td>0.992795</td>\n",
       "      <td>True</td>\n",
       "    </tr>\n",
       "    <tr>\n",
       "      <th>...</th>\n",
       "      <td>...</td>\n",
       "      <td>...</td>\n",
       "      <td>...</td>\n",
       "      <td>...</td>\n",
       "      <td>...</td>\n",
       "    </tr>\n",
       "    <tr>\n",
       "      <th>767</th>\n",
       "      <td>breaking its not over gop stand up to overturn...</td>\n",
       "      <td>2</td>\n",
       "      <td>2</td>\n",
       "      <td>0.999976</td>\n",
       "      <td>True</td>\n",
       "    </tr>\n",
       "    <tr>\n",
       "      <th>768</th>\n",
       "      <td>predicting the future is always notoriously di...</td>\n",
       "      <td>1</td>\n",
       "      <td>1</td>\n",
       "      <td>0.679003</td>\n",
       "      <td>True</td>\n",
       "    </tr>\n",
       "    <tr>\n",
       "      <th>769</th>\n",
       "      <td>its nice to see people coming out and supporti...</td>\n",
       "      <td>1</td>\n",
       "      <td>2</td>\n",
       "      <td>0.998994</td>\n",
       "      <td>False</td>\n",
       "    </tr>\n",
       "    <tr>\n",
       "      <th>770</th>\n",
       "      <td>reefer madness grips bureaucratsrady ananda fo...</td>\n",
       "      <td>3</td>\n",
       "      <td>3</td>\n",
       "      <td>0.997850</td>\n",
       "      <td>True</td>\n",
       "    </tr>\n",
       "    <tr>\n",
       "      <th>771</th>\n",
       "      <td>voting machines in chicago literally switch re...</td>\n",
       "      <td>2</td>\n",
       "      <td>2</td>\n",
       "      <td>0.981888</td>\n",
       "      <td>True</td>\n",
       "    </tr>\n",
       "  </tbody>\n",
       "</table>\n",
       "<p>772 rows × 5 columns</p>\n",
       "</div>"
      ],
      "text/plain": [
       "                                               content  ...   true\n",
       "0    what with warships in our harbour and troops i...  ...   True\n",
       "1    hillary vp pick turns on her and humiliates he...  ...   True\n",
       "2    angry liberals tried to take down ivanka so sh...  ...   True\n",
       "3    prices of chinas domestically made automobiles...  ...   True\n",
       "4    a medical doctor in taichung recently pubished...  ...   True\n",
       "..                                                 ...  ...    ...\n",
       "767  breaking its not over gop stand up to overturn...  ...   True\n",
       "768  predicting the future is always notoriously di...  ...   True\n",
       "769  its nice to see people coming out and supporti...  ...  False\n",
       "770  reefer madness grips bureaucratsrady ananda fo...  ...   True\n",
       "771  voting machines in chicago literally switch re...  ...   True\n",
       "\n",
       "[772 rows x 5 columns]"
      ]
     },
     "execution_count": 74,
     "metadata": {
      "tags": []
     },
     "output_type": "execute_result"
    }
   ],
   "source": [
    "result = df[['content','label']]\n",
    "result['predict'] = labels\n",
    "result['predict_score'] = scores\n",
    "\n",
    "result['true'] = result.apply(lambda row: str(row['label']) == str(row['predict']), axis=1)\n",
    "\n",
    "result"
   ]
  },
  {
   "cell_type": "code",
   "execution_count": 75,
   "metadata": {
    "colab": {
     "base_uri": "https://localhost:8080/"
    },
    "id": "C216CM31kXgm",
    "outputId": "a9ef5c9f-ac3c-4833-f959-f242625a8a07"
   },
   "outputs": [
    {
     "name": "stdout",
     "output_type": "stream",
     "text": [
      "0.8756476683937824\n"
     ]
    }
   ],
   "source": [
    "overall_df = result[result['true']==True]\n",
    "acc = overall_df.shape[0]/result.shape[0]\n",
    "\n",
    "print(acc)"
   ]
  },
  {
   "cell_type": "code",
   "execution_count": 76,
   "metadata": {
    "colab": {
     "base_uri": "https://localhost:8080/"
    },
    "id": "BYRqO0DxNQEq",
    "outputId": "dc2be894-fa1c-4b15-e44f-9fa26d26a54e"
   },
   "outputs": [
    {
     "name": "stdout",
     "output_type": "stream",
     "text": [
      "Confusion Matrix \n",
      "\n",
      "[[127  10   3   7]\n",
      " [  7 191   4  11]\n",
      " [  9   1 185  18]\n",
      " [  4   8  14 173]]\n",
      "F1 Each score: [0.86394558 0.90307329 0.84803922 0.88305489]\n",
      "F1 All score: 0.8759133497082275\n"
     ]
    }
   ],
   "source": [
    "y_true = result['label'].astype('int32').tolist()\n",
    "y_preds = result['predict'].astype('int32').tolist()\n",
    "n_labels = result['label'].unique().astype('int32').tolist()\n",
    "cm = confusion_matrix(y_true, y_preds, labels = n_labels)\n",
    "print('Confusion Matrix \\n')\n",
    "print(cm)\n",
    "\n",
    "f1_each= f1_score(y_true, y_preds, average=None)\n",
    "print('F1 Each score:', f1_each)\n",
    "\n",
    "f1_all= f1_score(y_true, y_preds, average='weighted')\n",
    "print('F1 All score:', f1_all)"
   ]
  },
  {
   "cell_type": "code",
   "execution_count": null,
   "metadata": {
    "id": "4QPnMTNDigpi"
   },
   "outputs": [],
   "source": []
  }
 ],
 "metadata": {
  "colab": {
   "name": "all-fakes-predict.ipynb",
   "provenance": []
  },
  "kernelspec": {
   "display_name": "Python 3",
   "language": "python",
   "name": "python3"
  },
  "language_info": {
   "codemirror_mode": {
    "name": "ipython",
    "version": 3
   },
   "file_extension": ".py",
   "mimetype": "text/x-python",
   "name": "python",
   "nbconvert_exporter": "python",
   "pygments_lexer": "ipython3",
   "version": "3.7.3"
  }
 },
 "nbformat": 4,
 "nbformat_minor": 1
}
